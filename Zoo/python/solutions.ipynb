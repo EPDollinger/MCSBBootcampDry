{
 "cells": [
  {
   "cell_type": "code",
   "execution_count": 4,
   "metadata": {},
   "outputs": [
    {
     "name": "stdout",
     "output_type": "stream",
     "text": [
      "Going to download : 3SJU\n",
      "Downloaded 3SJU.pdb\n",
      "The first line is : HEADER    OXIDOREDUCTASE                          21-JUN-11   3SJU              \n"
     ]
    }
   ],
   "source": [
    "import urllib.request\n",
    "import matplotlib.pyplot as plt\n",
    "\n",
    "def get_pdb_file(protein_name:str):\n",
    "    print(f\"Going to download : {protein_name}\")\n",
    "    file_url = \"https://files.rcsb.org/download/\"+protein_name+\".pdb\"\n",
    "    download_file_name = protein_name+\".pdb\"\n",
    "    urllib.request.urlretrieve(file_url, download_file_name)\n",
    "    print(f\"Downloaded {protein_name}.pdb\")\n",
    "    with open(download_file_name) as file_handle:\n",
    "        data = file_handle.read()\n",
    "        lines = data.split(\"\\n\")\n",
    "    print(\"The first line is : \" + lines[0])\n",
    "\n",
    "get_pdb_file(\"3SJU\")"
   ]
  },
  {
   "cell_type": "code",
   "execution_count": 15,
   "metadata": {},
   "outputs": [
    {
     "data": {
      "image/png": "[encoded data removed]",
      "text/plain": [
       "<Figure size 576x360 with 1 Axes>"
      ]
     },
     "metadata": {
      "needs_background": "light"
     },
     "output_type": "display_data"
    }
   ],
   "source": [
    "with open(\"3SJU.pdb\") as f:\n",
    "    data = f.read()\n",
    "    data = data.split(\"\\n\")\n",
    "all_aa = []\n",
    "for line in data:\n",
    "    if line.startswith(\"SEQRES\"):\n",
    "        this_line_list = line.split()\n",
    "        this_line_aa = this_line_list[4:]\n",
    "        [all_aa.append(an_aa.capitalize()) for an_aa in this_line_aa]\n",
    "sorted_all_aa = sorted(all_aa) #TODO: INCLUDE THIS IN THE LECTURE\n",
    "\n",
    "plt.figure(figsize=(8,5)) # fig size is optional\n",
    "plt.hist(sorted_all_aa, color=\"xkcd:blue\")\n",
    "plt.xlabel(\"Amino acid\");\n",
    "plt.ylabel(\"Frequency\");\n",
    "plt.savefig(\"imgs\\f1.png\")\n",
    "\n",
    "#TODO: ADD ATOM EXTRACTION CODE"
   ]
  },
  {
   "cell_type": "code",
   "execution_count": 9,
   "metadata": {},
   "outputs": [
    {
     "data": {
      "image/png": "[encoded data removed]",
      "text/plain": [
       "<Figure size 576x360 with 1 Axes>"
      ]
     },
     "metadata": {
      "needs_background": "light"
     },
     "output_type": "display_data"
    }
   ],
   "source": [
    "aa_dict = {\"ala\":\"A\", \"arg\":\"R\", \"asn\":\"N\", \"asp\":\"D\", \n",
    "           \"asx\":\"B\", \"cys\":\"C\", \"glu\":\"E\", \n",
    "           \"gln\":\"Q\",\"glx\":\"Z\",\"gly\":\"G\", \"his\":\"H\", \n",
    "           \"ile\":\"I\",\"leu\":\"L\", \"lys\":\"K\", \"met\":\"M\",\n",
    "           \"phe\":\"F\", \"pro\":\"P\", \"ser\":\"S\", \"thr\":\"T\",\n",
    "           \"trp\":\"W\", \"tyr\":\"Y\", \"val\":\"V\"}\n",
    "all_aa_one_letter = []\n",
    "for an_aa in all_aa:\n",
    "    all_aa_one_letter.append(aa_dict[an_aa.lower()])\n",
    "\n",
    "plt.figure(figsize=(8,5))\n",
    "plt.hist(all_aa_one_letter, color=\"xkcd:blue\")\n",
    "plt.xlabel(\"Amino acid\");\n",
    "plt.ylabel(\"Frequency\");\n",
    "plt.savefig(\"imgs\\f2.png\")"
   ]
  },
  {
   "cell_type": "code",
   "execution_count": 7,
   "metadata": {},
   "outputs": [
    {
     "data": {
      "image/png": "[encoded data removed]",
      "text/plain": [
       "<Figure size 576x360 with 1 Axes>"
      ]
     },
     "metadata": {
      "needs_background": "light"
     },
     "output_type": "display_data"
    }
   ],
   "source": [
    "even_aa = []\n",
    "odd_aa = []\n",
    "\n",
    "for ind1, an_aa in enumerate(all_aa):\n",
    "    if ind1 % 2 == 0:\n",
    "        even_aa.append(an_aa.capitalize())\n",
    "    else:\n",
    "        odd_aa.append(an_aa.capitalize())\n",
    "\n",
    "plt.figure(figsize=(8,5))\n",
    "plt.hist(even_aa, color=\"blue\", alpha=0.5, label=\"Even\")\n",
    "plt.hist(odd_aa, color=\"red\", alpha=0.5, label=\"Odd\")\n",
    "plt.xlabel(\"Amino acid\");\n",
    "plt.ylabel(\"Frequency\");\n",
    "plt.legend()\n",
    "plt.savefig(\"imgs\\f3.png\")"
   ]
  },
  {
   "cell_type": "markdown",
   "metadata": {},
   "source": [
    "# Example notebook\n",
    "\n",
    "We wish to evaluate the following function\n",
    "\n",
    "$$ f(x) = \\sin(x)$$\n",
    "\n",
    "at $x = 0.21$"
   ]
  },
  {
   "cell_type": "code",
   "execution_count": 1,
   "metadata": {},
   "outputs": [
    {
     "data": {
      "text/plain": [
       "0.20845989984609956"
      ]
     },
     "execution_count": 1,
     "metadata": {},
     "output_type": "execute_result"
    }
   ],
   "source": [
    "import math\n",
    "x = 0.21\n",
    "math.sin(x)"
   ]
  },
  {
   "cell_type": "code",
   "execution_count": 14,
   "metadata": {},
   "outputs": [
    {
     "name": "stdout",
     "output_type": "stream",
     "text": [
      "The LCS is MSLVGATSGIGLARLARGGRKLRAGVDGCDVSEVAAVVERGPLVNAGRGGGTALDLWDVTNLTGVFRVTVLAGGMRGGRIVNIASTGGKQGVAAPYASKHGVVGFTKGELATGITVNAVCPGVETPMAVREYWVTEERAIGRYSEEVAGGAAATAQALNVCGGLGNY\n",
      "Length of the LCS is 167\n"
     ]
    }
   ],
   "source": [
    "from LongestCommonSubsequence import lcs\n",
    "get_pdb_file(\"3SJU\")\n",
    "get_pdb_file(\"1X7H\")\n",
    "\n",
    "seq1 = extract(\"3SJU\") # returns one letter string\n",
    "seq2 = extract(\"1X7H\") \n",
    "m = len(seq1)\n",
    "n = len(seq2)\n",
    "lcs(seq1, seq2, m, n)"
   ]
  },
  {
   "cell_type": "code",
   "execution_count": null,
   "metadata": {},
   "outputs": [],
   "source": []
  }
 ],
 "metadata": {
  "kernelspec": {
   "display_name": "learnpy_kernel",
   "language": "python",
   "name": "learnpy_kernel"
  },
  "language_info": {
   "codemirror_mode": {
    "name": "ipython",
    "version": 3
   },
   "file_extension": ".py",
   "mimetype": "text/x-python",
   "name": "python",
   "nbconvert_exporter": "python",
   "pygments_lexer": "ipython3",
   "version": "3.7.3"
  }
 },
 "nbformat": 4,
 "nbformat_minor": 2
}
